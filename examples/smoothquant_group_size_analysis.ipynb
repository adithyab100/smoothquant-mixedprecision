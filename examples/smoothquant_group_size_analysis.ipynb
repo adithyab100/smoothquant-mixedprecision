{
 "cells": [
  {
   "cell_type": "markdown",
   "metadata": {},
   "source": [
    "# SmoothQuant Group Size Analysis\n",
    "\n",
    "In this notebook, we analyze the impact of different group sizes on model perplexity when using group quantization in SmoothQuant."
   ]
  },
  {
   "cell_type": "code",
   "execution_count": null,
   "metadata": {},
   "outputs": [],
   "source": [
    "# Install required packages\n",
    "!pip install torch transformers accelerate datasets matplotlib"
   ]
  },
  {
   "cell_type": "code",
   "execution_count": null,
   "metadata": {},
   "outputs": [],
   "source": [
    "import torch\n",
    "import torch.nn as nn\n",
    "from transformers import AutoModelForCausalLM, AutoTokenizer\n",
    "from smoothquant.smooth import smooth_lm\n",
    "from smoothquant.fake_quant import quantize_model\n",
    "from datasets import load_dataset\n",
    "import matplotlib.pyplot as plt\n",
    "import numpy as np\n",
    "import tqdm"
   ]
  },
  {
   "cell_type": "code",
   "execution_count": null,
   "metadata": {},
   "outputs": [],
   "source": [
    "class Evaluator:\n",
    "    def __init__(self, dataset, tokenizer, device, n_samples=10):\n",
    "        self.dataset = dataset\n",
    "        self.tokenizer = tokenizer\n",
    "        self.device = device\n",
    "\n",
    "        self.dataset = tokenizer(\n",
    "            \"\\n\\n\".join(dataset[\"text\"]), return_tensors=\"pt\"\n",
    "        ).input_ids.to(device)\n",
    "\n",
    "        self.n_samples = n_samples\n",
    "\n",
    "    @torch.no_grad()\n",
    "    def evaluate(self, model):\n",
    "        model.eval()\n",
    "        nlls = []\n",
    "        n_samples = self.n_samples if self.n_samples else self.dataset.size(1) // 2048\n",
    "        for i in tqdm.tqdm(range(n_samples), desc=\"Evaluating...\"):\n",
    "            batch = self.dataset[:, (i * 2048) : ((i + 1) * 2048)].to(model.device)\n",
    "            with torch.no_grad():\n",
    "                lm_logits = model(batch).logits\n",
    "            shift_logits = lm_logits[:, :-1, :].contiguous().float()\n",
    "            shift_labels = self.dataset[:, (i * 2048) : ((i + 1) * 2048)][:, 1:]\n",
    "            loss_fct = nn.CrossEntropyLoss()\n",
    "            loss = loss_fct(\n",
    "                shift_logits.view(-1, shift_logits.size(-1)), shift_labels.view(-1)\n",
    "            )\n",
    "            neg_log_likelihood = loss.float() * 2048\n",
    "            nlls.append(neg_log_likelihood)\n",
    "\n",
    "        return torch.exp(torch.stack(nlls).sum() / (n_samples * 2048))"
   ]
  },
  {
   "cell_type": "code",
   "execution_count": null,
   "metadata": {},
   "outputs": [],
   "source": [
    "def evaluate_group_size(model_path, group_sizes, device=\"cuda\" if torch.cuda.is_available() else \"cpu\"):\n",
    "    # Load tokenizer and dataset\n",
    "    tokenizer = AutoTokenizer.from_pretrained(model_path)\n",
    "    dataset = load_dataset(\"wikitext\", \"wikitext-2-raw-v1\", split=\"test\")\n",
    "    evaluator = Evaluator(dataset, tokenizer, device, n_samples=10)  # Reduced samples for faster testing\n",
    "    \n",
    "    perplexities = []\n",
    "    \n",
    "    for group_size in group_sizes:\n",
    "        print(f\"\\nTesting group size: {group_size}\")\n",
    "        \n",
    "        # Load model fresh each time to avoid contamination\n",
    "        model = AutoModelForCausalLM.from_pretrained(\n",
    "            model_path, \n",
    "            torch_dtype=torch.float32 if device == \"cpu\" else torch.float16,\n",
    "            device_map=device\n",
    "        )\n",
    "        \n",
    "        # Quantize model with current group size\n",
    "        model = quantize_model(\n",
    "            model,\n",
    "            weight_quant=\"per_group\",\n",
    "            act_quant=\"per_token\",\n",
    "            quantize_bmm_input=True,\n",
    "            group_size=group_size,\n",
    "            input_feat=None  # No input features available\n",
    "        )\n",
    "        \n",
    "        # Evaluate\n",
    "        ppl = evaluator.evaluate(model)\n",
    "        perplexities.append(ppl)\n",
    "        print(f\"Perplexity for group size {group_size}: {ppl}\")\n",
    "        \n",
    "        # Clear memory\n",
    "        del model\n",
    "        torch.cuda.empty_cache()\n",
    "    \n",
    "    return perplexities"
   ]
  },
  {
   "cell_type": "code",
   "execution_count": null,
   "metadata": {},
   "outputs": [],
   "source": [
    "def plot_results(group_sizes, perplexities, output_path=\"group_size_perplexity.png\"):\n",
    "    plt.figure(figsize=(10, 6))\n",
    "    plt.plot(group_sizes, perplexities, 'bo-')\n",
    "    plt.xlabel('Group Size')\n",
    "    plt.ylabel('Perplexity')\n",
    "    plt.title('Model Perplexity vs. Group Size')\n",
    "    plt.grid(True)\n",
    "    plt.yscale('log')  # Log scale for perplexity\n",
    "    plt.xscale('log')  # Log scale for group size\n",
    "    plt.savefig(output_path)\n",
    "    plt.close()"
   ]
  },
  {
   "cell_type": "code",
   "execution_count": null,
   "metadata": {},
   "outputs": [],
   "source": [
    "# Configuration\n",
    "model_path = \"facebook/opt-125m\"  # Using OPT-125M which is publicly available\n",
    "group_sizes = [8, 16, 32, 64, 128]  # Different group sizes to test\n",
    "\n",
    "# Run evaluation\n",
    "perplexities = evaluate_group_size(model_path, group_sizes)\n",
    "\n",
    "# Plot results\n",
    "plot_results(group_sizes, perplexities)\n",
    "\n",
    "# Print final results\n",
    "print(\"\\nFinal Results:\")\n",
    "for size, ppl in zip(group_sizes, perplexities):\n",
    "    print(f\"Group Size: {size}, Perplexity: {ppl}\")"
   ]
  }
 ],
 "metadata": {
  "language_info": {
   "name": "python"
  }
 },
 "nbformat": 4,
 "nbformat_minor": 2
}
