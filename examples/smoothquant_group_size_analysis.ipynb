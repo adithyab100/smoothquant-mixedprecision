{
  "cells": [
    {
      "cell_type": "markdown",
      "metadata": {
        "id": "view-in-github",
        "colab_type": "text"
      },
      "source": [
        "<a href=\"https://colab.research.google.com/github/adithyab100/smoothquant-mixedprecision/blob/main/examples/smoothquant_group_size_analysis.ipynb\" target=\"_parent\"><img src=\"https://colab.research.google.com/assets/colab-badge.svg\" alt=\"Open In Colab\"/></a>"
      ]
    },
    {
      "cell_type": "markdown",
      "metadata": {
        "id": "0heUEC1sJOz4"
      },
      "source": [
        "# SmoothQuant Group Size Analysis\n",
        "\n",
        "In this notebook, we analyze the impact of different group sizes on model perplexity when using group quantization in SmoothQuant."
      ]
    },
    {
      "cell_type": "code",
      "execution_count": 4,
      "metadata": {
        "colab": {
          "base_uri": "https://localhost:8080/"
        },
        "id": "Th5GwOB_JOz5",
        "outputId": "1c858ec5-86ae-4a6e-db14-225c4080d795"
      },
      "outputs": [
        {
          "output_type": "stream",
          "name": "stdout",
          "text": [
            "Cloning into 'smoothquant-mixedprecision'...\n",
            "remote: Enumerating objects: 517, done.\u001b[K\n",
            "remote: Counting objects: 100% (322/322), done.\u001b[K\n",
            "remote: Compressing objects: 100% (166/166), done.\u001b[K\n",
            "remote: Total 517 (delta 226), reused 198 (delta 156), pack-reused 195 (from 1)\u001b[K\n",
            "Receiving objects: 100% (517/517), 6.96 MiB | 20.41 MiB/s, done.\n",
            "Resolving deltas: 100% (312/312), done.\n",
            "/content/smoothquant-mixedprecision/smoothquant-mixedprecision/smoothquant-mixedprecision\n",
            "Looking in indexes: https://pypi.org/simple, https://download.pytorch.org/whl/cu113\n",
            "Requirement already satisfied: torch==1.12.1+cu113 in /usr/local/lib/python3.10/dist-packages (1.12.1+cu113)\n",
            "Requirement already satisfied: torchvision==0.13.1+cu113 in /usr/local/lib/python3.10/dist-packages (0.13.1+cu113)\n",
            "Requirement already satisfied: torchaudio==0.12.1 in /usr/local/lib/python3.10/dist-packages (0.12.1+cu113)\n",
            "Requirement already satisfied: typing-extensions in /usr/local/lib/python3.10/dist-packages (from torch==1.12.1+cu113) (4.12.2)\n",
            "Requirement already satisfied: numpy in /usr/local/lib/python3.10/dist-packages (from torchvision==0.13.1+cu113) (1.26.4)\n",
            "Requirement already satisfied: requests in /usr/local/lib/python3.10/dist-packages (from torchvision==0.13.1+cu113) (2.32.3)\n",
            "Requirement already satisfied: pillow!=8.3.*,>=5.3.0 in /usr/local/lib/python3.10/dist-packages (from torchvision==0.13.1+cu113) (11.0.0)\n",
            "Requirement already satisfied: charset-normalizer<4,>=2 in /usr/local/lib/python3.10/dist-packages (from requests->torchvision==0.13.1+cu113) (3.4.0)\n",
            "Requirement already satisfied: idna<4,>=2.5 in /usr/local/lib/python3.10/dist-packages (from requests->torchvision==0.13.1+cu113) (3.10)\n",
            "Requirement already satisfied: urllib3<3,>=1.21.1 in /usr/local/lib/python3.10/dist-packages (from requests->torchvision==0.13.1+cu113) (2.2.3)\n",
            "Requirement already satisfied: certifi>=2017.4.17 in /usr/local/lib/python3.10/dist-packages (from requests->torchvision==0.13.1+cu113) (2024.8.30)\n",
            "Requirement already satisfied: transformers==4.36.0 in /usr/local/lib/python3.10/dist-packages (4.36.0)\n",
            "Requirement already satisfied: accelerate in /usr/local/lib/python3.10/dist-packages (1.1.1)\n",
            "Requirement already satisfied: datasets in /usr/local/lib/python3.10/dist-packages (3.2.0)\n",
            "Requirement already satisfied: zstandard in /usr/local/lib/python3.10/dist-packages (0.23.0)\n",
            "Requirement already satisfied: filelock in /usr/local/lib/python3.10/dist-packages (from transformers==4.36.0) (3.16.1)\n",
            "Requirement already satisfied: huggingface-hub<1.0,>=0.19.3 in /usr/local/lib/python3.10/dist-packages (from transformers==4.36.0) (0.26.3)\n",
            "Requirement already satisfied: numpy>=1.17 in /usr/local/lib/python3.10/dist-packages (from transformers==4.36.0) (1.26.4)\n",
            "Requirement already satisfied: packaging>=20.0 in /usr/local/lib/python3.10/dist-packages (from transformers==4.36.0) (24.2)\n",
            "Requirement already satisfied: pyyaml>=5.1 in /usr/local/lib/python3.10/dist-packages (from transformers==4.36.0) (6.0.2)\n",
            "Requirement already satisfied: regex!=2019.12.17 in /usr/local/lib/python3.10/dist-packages (from transformers==4.36.0) (2024.9.11)\n",
            "Requirement already satisfied: requests in /usr/local/lib/python3.10/dist-packages (from transformers==4.36.0) (2.32.3)\n",
            "Requirement already satisfied: tokenizers<0.19,>=0.14 in /usr/local/lib/python3.10/dist-packages (from transformers==4.36.0) (0.15.2)\n",
            "Requirement already satisfied: safetensors>=0.3.1 in /usr/local/lib/python3.10/dist-packages (from transformers==4.36.0) (0.4.5)\n",
            "Requirement already satisfied: tqdm>=4.27 in /usr/local/lib/python3.10/dist-packages (from transformers==4.36.0) (4.66.6)\n",
            "Requirement already satisfied: psutil in /usr/local/lib/python3.10/dist-packages (from accelerate) (5.9.5)\n",
            "Requirement already satisfied: torch>=1.10.0 in /usr/local/lib/python3.10/dist-packages (from accelerate) (1.12.1+cu113)\n",
            "Requirement already satisfied: pyarrow>=15.0.0 in /usr/local/lib/python3.10/dist-packages (from datasets) (17.0.0)\n",
            "Requirement already satisfied: dill<0.3.9,>=0.3.0 in /usr/local/lib/python3.10/dist-packages (from datasets) (0.3.8)\n",
            "Requirement already satisfied: pandas in /usr/local/lib/python3.10/dist-packages (from datasets) (2.2.2)\n",
            "Requirement already satisfied: xxhash in /usr/local/lib/python3.10/dist-packages (from datasets) (3.5.0)\n",
            "Requirement already satisfied: multiprocess<0.70.17 in /usr/local/lib/python3.10/dist-packages (from datasets) (0.70.16)\n",
            "Requirement already satisfied: fsspec<=2024.9.0,>=2023.1.0 in /usr/local/lib/python3.10/dist-packages (from fsspec[http]<=2024.9.0,>=2023.1.0->datasets) (2024.9.0)\n",
            "Requirement already satisfied: aiohttp in /usr/local/lib/python3.10/dist-packages (from datasets) (3.11.9)\n",
            "Requirement already satisfied: aiohappyeyeballs>=2.3.0 in /usr/local/lib/python3.10/dist-packages (from aiohttp->datasets) (2.4.4)\n",
            "Requirement already satisfied: aiosignal>=1.1.2 in /usr/local/lib/python3.10/dist-packages (from aiohttp->datasets) (1.3.1)\n",
            "Requirement already satisfied: async-timeout<6.0,>=4.0 in /usr/local/lib/python3.10/dist-packages (from aiohttp->datasets) (4.0.3)\n",
            "Requirement already satisfied: attrs>=17.3.0 in /usr/local/lib/python3.10/dist-packages (from aiohttp->datasets) (24.2.0)\n",
            "Requirement already satisfied: frozenlist>=1.1.1 in /usr/local/lib/python3.10/dist-packages (from aiohttp->datasets) (1.5.0)\n",
            "Requirement already satisfied: multidict<7.0,>=4.5 in /usr/local/lib/python3.10/dist-packages (from aiohttp->datasets) (6.1.0)\n",
            "Requirement already satisfied: propcache>=0.2.0 in /usr/local/lib/python3.10/dist-packages (from aiohttp->datasets) (0.2.1)\n",
            "Requirement already satisfied: yarl<2.0,>=1.17.0 in /usr/local/lib/python3.10/dist-packages (from aiohttp->datasets) (1.18.3)\n",
            "Requirement already satisfied: typing-extensions>=3.7.4.3 in /usr/local/lib/python3.10/dist-packages (from huggingface-hub<1.0,>=0.19.3->transformers==4.36.0) (4.12.2)\n",
            "Requirement already satisfied: charset-normalizer<4,>=2 in /usr/local/lib/python3.10/dist-packages (from requests->transformers==4.36.0) (3.4.0)\n",
            "Requirement already satisfied: idna<4,>=2.5 in /usr/local/lib/python3.10/dist-packages (from requests->transformers==4.36.0) (3.10)\n",
            "Requirement already satisfied: urllib3<3,>=1.21.1 in /usr/local/lib/python3.10/dist-packages (from requests->transformers==4.36.0) (2.2.3)\n",
            "Requirement already satisfied: certifi>=2017.4.17 in /usr/local/lib/python3.10/dist-packages (from requests->transformers==4.36.0) (2024.8.30)\n",
            "Requirement already satisfied: python-dateutil>=2.8.2 in /usr/local/lib/python3.10/dist-packages (from pandas->datasets) (2.8.2)\n",
            "Requirement already satisfied: pytz>=2020.1 in /usr/local/lib/python3.10/dist-packages (from pandas->datasets) (2024.2)\n",
            "Requirement already satisfied: tzdata>=2022.7 in /usr/local/lib/python3.10/dist-packages (from pandas->datasets) (2024.2)\n",
            "Requirement already satisfied: six>=1.5 in /usr/local/lib/python3.10/dist-packages (from python-dateutil>=2.8.2->pandas->datasets) (1.16.0)\n",
            "running install\n",
            "/usr/local/lib/python3.10/dist-packages/setuptools/_distutils/cmd.py:66: SetuptoolsDeprecationWarning: setup.py install is deprecated.\n",
            "!!\n",
            "\n",
            "        ********************************************************************************\n",
            "        Please avoid running ``setup.py`` directly.\n",
            "        Instead, use pypa/build, pypa/installer or other\n",
            "        standards-based tools.\n",
            "\n",
            "        See https://blog.ganssle.io/articles/2021/10/setup-py-deprecated.html for details.\n",
            "        ********************************************************************************\n",
            "\n",
            "!!\n",
            "  self.initialize_options()\n",
            "/usr/local/lib/python3.10/dist-packages/setuptools/_distutils/cmd.py:66: EasyInstallDeprecationWarning: easy_install command is deprecated.\n",
            "!!\n",
            "\n",
            "        ********************************************************************************\n",
            "        Please avoid running ``setup.py`` and ``easy_install``.\n",
            "        Instead, use pypa/build, pypa/installer or other\n",
            "        standards-based tools.\n",
            "\n",
            "        See https://github.com/pypa/setuptools/issues/917 for details.\n",
            "        ********************************************************************************\n",
            "\n",
            "!!\n",
            "  self.initialize_options()\n",
            "running bdist_egg\n",
            "running egg_info\n",
            "creating smoothquant.egg-info\n",
            "writing smoothquant.egg-info/PKG-INFO\n",
            "writing dependency_links to smoothquant.egg-info/dependency_links.txt\n",
            "writing top-level names to smoothquant.egg-info/top_level.txt\n",
            "writing manifest file 'smoothquant.egg-info/SOURCES.txt'\n",
            "reading manifest file 'smoothquant.egg-info/SOURCES.txt'\n",
            "adding license file 'LICENSE'\n",
            "writing manifest file 'smoothquant.egg-info/SOURCES.txt'\n",
            "installing library code to build/bdist.linux-x86_64/egg\n",
            "running install_lib\n",
            "running build_py\n",
            "creating build/lib/smoothquant\n",
            "copying smoothquant/fake_quant.py -> build/lib/smoothquant\n",
            "copying smoothquant/opt.py -> build/lib/smoothquant\n",
            "copying smoothquant/calibration.py -> build/lib/smoothquant\n",
            "copying smoothquant/smooth.py -> build/lib/smoothquant\n",
            "copying smoothquant/model_size.py -> build/lib/smoothquant\n",
            "copying smoothquant/ppl_eval.py -> build/lib/smoothquant\n",
            "copying smoothquant/__init__.py -> build/lib/smoothquant\n",
            "creating build/bdist.linux-x86_64/egg\n",
            "creating build/bdist.linux-x86_64/egg/smoothquant\n",
            "copying build/lib/smoothquant/fake_quant.py -> build/bdist.linux-x86_64/egg/smoothquant\n",
            "copying build/lib/smoothquant/opt.py -> build/bdist.linux-x86_64/egg/smoothquant\n",
            "copying build/lib/smoothquant/calibration.py -> build/bdist.linux-x86_64/egg/smoothquant\n",
            "copying build/lib/smoothquant/smooth.py -> build/bdist.linux-x86_64/egg/smoothquant\n",
            "copying build/lib/smoothquant/model_size.py -> build/bdist.linux-x86_64/egg/smoothquant\n",
            "copying build/lib/smoothquant/ppl_eval.py -> build/bdist.linux-x86_64/egg/smoothquant\n",
            "copying build/lib/smoothquant/__init__.py -> build/bdist.linux-x86_64/egg/smoothquant\n",
            "byte-compiling build/bdist.linux-x86_64/egg/smoothquant/fake_quant.py to fake_quant.cpython-310.pyc\n",
            "byte-compiling build/bdist.linux-x86_64/egg/smoothquant/opt.py to opt.cpython-310.pyc\n",
            "byte-compiling build/bdist.linux-x86_64/egg/smoothquant/calibration.py to calibration.cpython-310.pyc\n",
            "byte-compiling build/bdist.linux-x86_64/egg/smoothquant/smooth.py to smooth.cpython-310.pyc\n",
            "byte-compiling build/bdist.linux-x86_64/egg/smoothquant/model_size.py to model_size.cpython-310.pyc\n",
            "byte-compiling build/bdist.linux-x86_64/egg/smoothquant/ppl_eval.py to ppl_eval.cpython-310.pyc\n",
            "byte-compiling build/bdist.linux-x86_64/egg/smoothquant/__init__.py to __init__.cpython-310.pyc\n",
            "creating build/bdist.linux-x86_64/egg/EGG-INFO\n",
            "copying smoothquant.egg-info/PKG-INFO -> build/bdist.linux-x86_64/egg/EGG-INFO\n",
            "copying smoothquant.egg-info/SOURCES.txt -> build/bdist.linux-x86_64/egg/EGG-INFO\n",
            "copying smoothquant.egg-info/dependency_links.txt -> build/bdist.linux-x86_64/egg/EGG-INFO\n",
            "copying smoothquant.egg-info/top_level.txt -> build/bdist.linux-x86_64/egg/EGG-INFO\n",
            "zip_safe flag not set; analyzing archive contents...\n",
            "creating dist\n",
            "creating 'dist/smoothquant-0.0.0-py3.10.egg' and adding 'build/bdist.linux-x86_64/egg' to it\n",
            "removing 'build/bdist.linux-x86_64/egg' (and everything under it)\n",
            "Processing smoothquant-0.0.0-py3.10.egg\n",
            "Removing /usr/local/lib/python3.10/dist-packages/smoothquant-0.0.0-py3.10.egg\n",
            "Copying smoothquant-0.0.0-py3.10.egg to /usr/local/lib/python3.10/dist-packages\n",
            "Adding smoothquant 0.0.0 to easy-install.pth file\n",
            "\n",
            "Installed /usr/local/lib/python3.10/dist-packages/smoothquant-0.0.0-py3.10.egg\n",
            "Processing dependencies for smoothquant==0.0.0\n",
            "Finished processing dependencies for smoothquant==0.0.0\n"
          ]
        }
      ],
      "source": [
        "!git clone https://github.com/adithyab100/smoothquant-mixedprecision.git\n",
        "%cd smoothquant-mixedprecision\n",
        "!pip install torch==1.12.1+cu113 torchvision==0.13.1+cu113 torchaudio==0.12.1 --extra-index-url https://download.pytorch.org/whl/cu113\n",
        "!pip install transformers==4.36.0 accelerate datasets zstandard\n",
        "!python setup.py install"
      ]
    },
    {
      "cell_type": "code",
      "execution_count": null,
      "metadata": {
        "id": "PvCu7EbGJOz7"
      },
      "outputs": [],
      "source": [
        "%reload_ext autoreload\n",
        "%autoreload 2\n",
        "\n",
        "import os\n",
        "\n",
        "os.environ[\"CUDA_DEVICE_ORDER\"] = \"PCI_BUS_ID\"\n",
        "os.environ[\"CUDA_VISIBLE_DEVICES\"] = \"0\"\n",
        "\n",
        "import torch\n",
        "import torch.nn as nn\n",
        "from transformers.models.llama.modeling_llama import (\n",
        "    LlamaAttention,\n",
        "    LlamaDecoderLayer,\n",
        "    LlamaForCausalLM,\n",
        "    LlamaMLP,\n",
        ")\n",
        "import matplotlib.pyplot as plt\n",
        "from transformers import LlamaTokenizer\n",
        "from transformers import AutoModelForCausalLM, AutoTokenizer\n",
        "from smoothquant.smooth import smooth_lm\n",
        "from smoothquant.fake_quant import quantize_llama_like, quantize_opt\n",
        "from smoothquant.model_size import get_model_size\n",
        "\n",
        "import tqdm\n",
        "import gc\n",
        "from functools import partial\n",
        "from datasets import load_dataset\n",
        "\n",
        "Byte = 8\n",
        "KiB = 1024 * Byte\n",
        "MiB = 1024 * KiB\n",
        "GiB = 1024 * MiB\n"
      ]
    },
    {
      "cell_type": "code",
      "execution_count": null,
      "metadata": {
        "id": "kmVA-27_JOz9"
      },
      "outputs": [],
      "source": [
        "class Evaluator:\n",
        "    def __init__(self, dataset, tokenizer, device, n_samples=10):\n",
        "        self.dataset = dataset\n",
        "        self.tokenizer = tokenizer\n",
        "        self.device = device\n",
        "\n",
        "        self.dataset = tokenizer(\n",
        "            \"\\n\\n\".join(dataset[\"text\"]), return_tensors=\"pt\"\n",
        "        ).input_ids.to(device)\n",
        "\n",
        "        self.n_samples = n_samples\n",
        "\n",
        "    @torch.no_grad()\n",
        "    def evaluate(self, model):\n",
        "        model.eval()\n",
        "        nlls = []\n",
        "        n_samples = self.n_samples if self.n_samples else self.dataset.size(1) // 2048\n",
        "        for i in tqdm.tqdm(range(n_samples), desc=\"Evaluating...\"):\n",
        "            batch = self.dataset[:, (i * 2048) : ((i + 1) * 2048)].to(model.device)\n",
        "            with torch.no_grad():\n",
        "                lm_logits = model(batch).logits\n",
        "            shift_logits = lm_logits[:, :-1, :].contiguous().float()\n",
        "            shift_labels = self.dataset[:, (i * 2048) : ((i + 1) * 2048)][:, 1:]\n",
        "            loss_fct = nn.CrossEntropyLoss()\n",
        "            loss = loss_fct(\n",
        "                shift_logits.view(-1, shift_logits.size(-1)), shift_labels.view(-1)\n",
        "            )\n",
        "            neg_log_likelihood = loss.float() * 2048\n",
        "            nlls.append(neg_log_likelihood)\n",
        "\n",
        "        return torch.exp(torch.stack(nlls).sum() / (n_samples * 2048))"
      ]
    },
    {
      "cell_type": "code",
      "execution_count": null,
      "metadata": {
        "id": "s59Ms8mNLdHQ"
      },
      "outputs": [],
      "source": [
        "def get_calib_dataset(tokenizer=None, n_samples=256, block_size=512):\n",
        "    dataset = load_dataset('wikitext', 'wikitext-2-raw-v1', split=\"validation\")\n",
        "    dataset = dataset.shuffle(seed=42)\n",
        "    samples = []\n",
        "    n_run = 0\n",
        "    for data in dataset:\n",
        "        line = data[\"text\"]\n",
        "        line = line.strip()\n",
        "        line_encoded = tokenizer.encode(line)\n",
        "        if len(line_encoded) > block_size:\n",
        "            continue\n",
        "        sample = torch.tensor([line_encoded])\n",
        "        if sample.numel() == 0:\n",
        "            continue\n",
        "        samples.append(sample)\n",
        "        n_run += 1\n",
        "        if n_run == n_samples:\n",
        "            break\n",
        "\n",
        "    # now concatenate all samples and split according to block size\n",
        "    cat_samples = torch.cat(samples, dim=1)\n",
        "    n_split = cat_samples.shape[1] // block_size\n",
        "    print(f\" * Split into {n_split} blocks\")\n",
        "    return [cat_samples[:, i*block_size:(i+1)*block_size] for i in range(n_split)]\n",
        "\n",
        "@torch.no_grad()\n",
        "def get_calib_feat(model, tokenizer):\n",
        "    input_dict = dict()\n",
        "    def stat_input_max_hook(m, x, y, name):\n",
        "        if isinstance(x, tuple):\n",
        "            x = x[0]\n",
        "        x_max = x.view(-1, x.shape[-1]).abs().mean(dim=0).cpu().detach()\n",
        "        if name not in input_dict:\n",
        "            input_dict[name] = [x_max]\n",
        "        else:\n",
        "            input_dict[name] += [x_max]\n",
        "\n",
        "    hooks = []\n",
        "    for name, m in model.named_modules():\n",
        "        if isinstance(m, nn.Linear):\n",
        "            hooks.append(\n",
        "                m.register_forward_hook(\n",
        "                    partial(stat_input_max_hook, name=name)))\n",
        "\n",
        "    print(\"Collecting activation scales...\")\n",
        "    device = torch.device(\"cuda\" if torch.cuda.is_available() else \"cpu\")\n",
        "\n",
        "    samples = get_calib_dataset(tokenizer)\n",
        "    pbar = tqdm.tqdm(samples)\n",
        "    for input_ids in pbar:\n",
        "        input_ids = input_ids.to(device)\n",
        "        model(input_ids)\n",
        "\n",
        "    for hook in hooks:\n",
        "        hook.remove()\n",
        "    return input_dict"
      ]
    },
    {
      "cell_type": "code",
      "execution_count": null,
      "metadata": {
        "id": "HhoW91FiJOz9"
      },
      "outputs": [],
      "source": [
        "def evaluate_group_size(model_path, group_sizes, salient_prop, device=\"cuda\" if torch.cuda.is_available() else \"cpu\"):\n",
        "    # Load tokenizer and dataset\n",
        "    # Configuration\n",
        "    model_fp16 = LlamaForCausalLM.from_pretrained(model_path, torch_dtype=torch.float16, device_map=\"auto\")\n",
        "\n",
        "    tokenizer = LlamaTokenizer.from_pretrained(model_path)\n",
        "    dataset = load_dataset(\"wikitext\", \"wikitext-2-raw-v1\", split=\"test\")\n",
        "    evaluator = Evaluator(dataset, tokenizer, device, n_samples=40)\n",
        "    input_feat = get_calib_feat(model_fp16, tokenizer)\n",
        "    perplexities = []\n",
        "    model_sizes = []\n",
        "\n",
        "    for group_size in group_sizes:\n",
        "        print(f\"\\nTesting group size: {group_size}\")\n",
        "\n",
        "\n",
        "        model_fp16 = LlamaForCausalLM.from_pretrained(model_path, torch_dtype=torch.float16,  device_map=None)\n",
        "        model_fp16 = model_fp16.to(\"cuda\" if torch.cuda.is_available() else \"cpu\")\n",
        "        model_w4a4 = quantize_llama_like(model_fp16, weight_quant=\"per_group\", act_quant=\"per_group\", input_feat=input_feat, salient_prop = salient_prop, quant_bits=4, group_size = group_size)\n",
        "\n",
        "        # get model size\n",
        "        model_sz = get_model_size(model_w4a4, data_width = 4, salient_prop = salient_prop, group_size = group_size)\n",
        "        model_sizes.append(model_sz / MiB) # can change depending on unit\n",
        "\n",
        "        # Evaluate\n",
        "        ppl = evaluator.evaluate(model_w4a4)\n",
        "        perplexities.append(ppl)\n",
        "        print(f\"Perplexity for group size {group_size}: {ppl}\")\n",
        "\n",
        "        # Clear memory\n",
        "        del model_fp16\n",
        "        del model_w4a4\n",
        "        gc.collect()\n",
        "        torch.cuda.empty_cache()\n",
        "\n",
        "    return perplexities, model_sizes"
      ]
    },
    {
      "cell_type": "code",
      "execution_count": null,
      "metadata": {
        "colab": {
          "base_uri": "https://localhost:8080/"
        },
        "id": "IvhYHXrWJOz-",
        "outputId": "82a921c7-fadc-46c9-bca3-e6df9528a3ba"
      },
      "outputs": [
        {
          "name": "stderr",
          "output_type": "stream",
          "text": [
            "/usr/local/lib/python3.10/dist-packages/huggingface_hub/file_download.py:797: FutureWarning: `resume_download` is deprecated and will be removed in version 1.0.0. Downloads always resume when possible. If you want to force a new download, use `force_download=True`.\n",
            "  warnings.warn(\n"
          ]
        },
        {
          "name": "stdout",
          "output_type": "stream",
          "text": [
            "Collecting activation scales...\n",
            " * Split into 39 blocks\n"
          ]
        },
        {
          "name": "stderr",
          "output_type": "stream",
          "text": [
            "100%|██████████| 39/39 [00:08<00:00,  4.79it/s]\n"
          ]
        },
        {
          "name": "stdout",
          "output_type": "stream",
          "text": [
            "\n",
            "Testing group size: 4\n"
          ]
        },
        {
          "name": "stderr",
          "output_type": "stream",
          "text": [
            "Evaluating...: 100%|██████████| 40/40 [00:48<00:00,  1.21s/it]\n"
          ]
        },
        {
          "name": "stdout",
          "output_type": "stream",
          "text": [
            "Perplexity for group size 4: 5.973439693450928\n",
            "\n",
            "Testing group size: 16\n"
          ]
        },
        {
          "name": "stderr",
          "output_type": "stream",
          "text": [
            "Quantizing OPT model: 18it [00:03,  5.07it/s]"
          ]
        }
      ],
      "source": [
        "model_path = \"NousResearch/Llama-2-7b-hf\"\n",
        "group_sizes = [4, 8, 16, 32, 64, 128, 256, 512, 1024]  # Different group sizes to test\n",
        "\n",
        "# Run evaluation\n",
        "perplexities = evaluate_group_size(model_path, group_sizes)\n",
        "\n",
        "# Plot results\n",
        "plot_results(group_sizes, perplexities)\n",
        "\n",
        "# Print final results\n",
        "# print(\"\\nFinal Results:\")\n",
        "# for size, ppl in zip(group_sizes, perplexities):\n",
        "#     print(f\"Group Size: {size}, Perplexity: {ppl}\")"
      ]
    },
    {
      "cell_type": "code",
      "source": [
        "# OPT-3 VALEUS\n",
        "group_sizes = [4, 8, 16, 32, 64, 128, 256]\n",
        "# with salient weight prop = 0\n",
        "perplexity_000 = [15.254583358764648, 15.688404083251953, 16.14592170715332, 17.27976417541504, 28.903629302978516, 71.420654296875, 2041.39453125]\n",
        "# salient weight prop = 0.01\n",
        "perplexity_001 = [15.390620231628418, 15.739761352539062, 16.02465057373047, 16.346904754638672, 16.42510414123535, 18.289968490600586, 27.982759475708008]\n",
        "# salient weight prop = 0.05\n",
        "perplexity_005= [15.335508346557617, 15.843849182128906, 16.056209564208984, 16.3746395111084, 16.626380920410156, 17.268110275268555, 17.88892364501953]\n",
        "# salient weight prop = 0.1\n",
        "perplexity_01 = [15.396620750427246, 15.694783210754395, 15.999234199523926, 16.205415725708008, 16.466209411621094, 16.95526695251465, 17.6525936126709]"
      ],
      "metadata": {
        "id": "eqTyQV8wSFXM"
      },
      "execution_count": null,
      "outputs": []
    },
    {
      "cell_type": "code",
      "source": [],
      "metadata": {
        "id": "vmyh2slEm5hl"
      },
      "execution_count": null,
      "outputs": []
    },
    {
      "cell_type": "code",
      "source": [
        "import matplotlib.pyplot as plt\n",
        "\n",
        "def plot_results(group_sizes, perplexity_000, perplexity_001, perplexity_005, perplexity_01, output_path=\"group_size_perplexity_pretty.png\"):\n",
        "    plt.figure(figsize=(10, 6))\n",
        "\n",
        "    # Plot the results with more distinct colors and line styles\n",
        "    plt.plot(group_sizes, perplexity_000, marker='o', label='Salient Prop = 0', color='darkblue', linestyle='-', markersize=8, linewidth=2)\n",
        "    plt.plot(group_sizes, perplexity_001, marker='s', label='Salient Prop = 0.01', color='mediumseagreen', linestyle='--', markersize=8, linewidth=2)\n",
        "    plt.plot(group_sizes, perplexity_005, marker='^', label='Salient Prop = 0.05', color='orange', linestyle='-.', markersize=8, linewidth=2)\n",
        "    plt.plot(group_sizes, perplexity_01, marker='d', label='Salient Prop = 0.1', color='darkviolet', linestyle=':', markersize=8, linewidth=2)\n",
        "\n",
        "    # Set labels and title\n",
        "    plt.xlabel('Group Size', fontsize=12)\n",
        "    plt.ylabel('Perplexity', fontsize=12)\n",
        "    plt.title('Model (OPT-1.3B) Perplexity vs. Group Size for Different Salient Proportions', fontsize=14)\n",
        "\n",
        "    # Apply log scale for both axes\n",
        "    plt.yscale('log')  # Log scale for perplexity\n",
        "    plt.xscale('log')  # Log scale for group size\n",
        "\n",
        "    # Set the grid and customize ticks\n",
        "    plt.grid(True, which='both', linestyle='--', linewidth=0.5, alpha=0.7)\n",
        "    plt.xticks(fontsize=10)\n",
        "    plt.yticks(fontsize=10)\n",
        "\n",
        "    # Add a legend\n",
        "    plt.legend(title=\"Salient Proportion\", loc='upper left', fontsize=10)\n",
        "\n",
        "    # Save the plot\n",
        "    plt.tight_layout()\n",
        "    plt.savefig(output_path)\n",
        "    plt.close()\n",
        "\n",
        "# Provided values\n",
        "group_sizes = [4, 8, 16, 32, 64, 128, 256]\n",
        "perplexity_000 = [15.254583358764648, 15.688404083251953, 16.14592170715332, 17.27976417541504, 28.903629302978516, 71.420654296875, 2041.39453125]\n",
        "perplexity_001 = [15.390620231628418, 15.739761352539062, 16.02465057373047, 16.346904754638672, 16.42510414123535, 18.289968490600586, 27.982759475708008]\n",
        "perplexity_005 = [15.335508346557617, 15.843849182128906, 16.056209564208984, 16.3746395111084, 16.626380920410156, 17.268110275268555, 17.88892364501953]\n",
        "perplexity_01 = [15.396620750427246, 15.694783210754395, 15.999234199523926, 16.205415725708008, 16.466209411621094, 16.95526695251465, 17.6525936126709]\n",
        "\n",
        "# Call the function\n",
        "plot_results(group_sizes, perplexity_000, perplexity_001, perplexity_005, perplexity_01, output_path=\"group_size_perplexity_no_labels.png\")\n"
      ],
      "metadata": {
        "id": "Bc5SBASqkyXZ"
      },
      "execution_count": null,
      "outputs": []
    },
    {
      "cell_type": "code",
      "source": [
        "# Run evaluation\n",
        "perplexities = evaluate_group_size(model_path, [4])"
      ],
      "metadata": {
        "colab": {
          "base_uri": "https://localhost:8080/"
        },
        "id": "pHikA162WLX4",
        "outputId": "53189dc2-0c0a-42ff-d93c-ec902cea2432"
      },
      "execution_count": null,
      "outputs": [
        {
          "output_type": "stream",
          "name": "stderr",
          "text": [
            "/usr/local/lib/python3.10/dist-packages/huggingface_hub/file_download.py:797: FutureWarning: `resume_download` is deprecated and will be removed in version 1.0.0. Downloads always resume when possible. If you want to force a new download, use `force_download=True`.\n",
            "  warnings.warn(\n"
          ]
        }
      ]
    }
  ],
  "metadata": {
    "accelerator": "GPU",
    "colab": {
      "gpuType": "L4",
      "machine_shape": "hm",
      "provenance": [],
      "include_colab_link": true
    },
    "kernelspec": {
      "display_name": "caveman",
      "language": "python",
      "name": "python3"
    },
    "language_info": {
      "codemirror_mode": {
        "name": "ipython",
        "version": 3
      },
      "file_extension": ".py",
      "mimetype": "text/x-python",
      "name": "python",
      "nbconvert_exporter": "python",
      "pygments_lexer": "ipython3",
      "version": "3.12.6"
    }
  },
  "nbformat": 4,
  "nbformat_minor": 0
}